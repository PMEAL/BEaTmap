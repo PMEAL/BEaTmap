{
 "cells": [
  {
   "cell_type": "code",
   "execution_count": 9,
   "metadata": {},
   "outputs": [],
   "source": [
    "import pickle\n",
    "import beatmap as bt\n",
    "\n",
    "\n",
    "file = \"examples/vulcan_chex.csv\"\n",
    "isotherm_data = bt.io.import_data(file=file, info=\"test\", a_o=39)\n",
    "isotherm_data.iso_df\n",
    "\n",
    "# write to pickle\n",
    "with open(\"examples/vulcan_chex.pkl\", \"wb\") as f:\n",
    "    pickle.dump(isotherm_data, f)\n",
    "\n",
    "bet_results = bt.core.bet(isotherm_data.iso_df,\n",
    "                          isotherm_data.a_o,\n",
    "                          isotherm_data.info)    \n",
    "\n",
    "# write to pickle\n",
    "with open(\"examples/vulcan_chex_bet.pkl\", \"wb\") as f:\n",
    "    pickle.dump(bet_results, f)\n"
   ]
  }
 ],
 "metadata": {
  "kernelspec": {
   "display_name": "beatmap",
   "language": "python",
   "name": "python3"
  },
  "language_info": {
   "codemirror_mode": {
    "name": "ipython",
    "version": 3
   },
   "file_extension": ".py",
   "mimetype": "text/x-python",
   "name": "python",
   "nbconvert_exporter": "python",
   "pygments_lexer": "ipython3",
   "version": "3.10.13"
  }
 },
 "nbformat": 4,
 "nbformat_minor": 2
}
